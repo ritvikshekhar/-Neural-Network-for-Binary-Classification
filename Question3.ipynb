{
  "nbformat": 4,
  "nbformat_minor": 0,
  "metadata": {
    "colab": {
      "provenance": []
    },
    "kernelspec": {
      "name": "python3",
      "display_name": "Python 3"
    },
    "language_info": {
      "name": "python"
    }
  },
  "cells": [
    {
      "cell_type": "code",
      "source": [
        "import numpy as np\n",
        "\n",
        "np.random.seed(42)\n",
        "\n",
        "# Class 0\n",
        "mean_0 = [-1, -1]\n",
        "cov = np.eye(2)\n",
        "X_0 = np.random.multivariate_normal(mean_0, cov, 10)\n",
        "y_0 = [0] * 10\n",
        "\n",
        "# Class 1\n",
        "mean_1 = [1, 1]\n",
        "X_1 = np.random.multivariate_normal(mean_1, cov, 10)\n",
        "y_1 = [1] * 10\n",
        "\n",
        "# Convert to numpy arrays\n",
        "y_0 = np.array(y_0).reshape(-1, 1)\n",
        "y_1 = np.array(y_1).reshape(-1, 1)\n",
        "\n",
        "# Split 50% for training\n",
        "X0_train, X0_test = X_0[:5], X_0[5:]\n",
        "y0_train, y0_test = y_0[:5], y_0[5:]\n",
        "\n",
        "X1_train, X1_test = X_1[:5], X_1[5:]\n",
        "y1_train, y1_test = y_1[:5], y_1[5:]\n",
        "\n",
        "# Combine train and test data\n",
        "X_train = np.vstack((X0_train, X1_train))\n",
        "y_train = np.vstack((y0_train, y1_train))\n",
        "\n",
        "X_test = np.vstack((X0_test, X1_test))\n",
        "y_test = np.vstack((y0_test, y1_test))\n",
        "\n",
        "# Shuffle train and test separately\n",
        "train_indices = np.random.permutation(len(X_train))\n",
        "test_indices = np.random.permutation(len(X_test))\n",
        "\n",
        "X_train = X_train[train_indices]\n",
        "y_train = y_train[train_indices]\n",
        "\n",
        "X_test = X_test[test_indices]\n",
        "y_test = y_test[test_indices]\n",
        "\n",
        "# Confirm shapes\n",
        "print(\"X_train:\", X_train.shape)\n",
        "print(\"y_train:\", y_train.reshape(-1))\n",
        "print(\"X_test:\", X_test.shape)\n",
        "print(\"y_test:\", y_test.reshape(-1))\n"
      ],
      "metadata": {
        "colab": {
          "base_uri": "https://localhost:8080/"
        },
        "id": "hpkXgVA0Wxkg",
        "outputId": "46e9478c-58bf-4cf6-edf5-2382e93e97bb"
      },
      "execution_count": 1,
      "outputs": [
        {
          "output_type": "stream",
          "name": "stdout",
          "text": [
            "X_train: (10, 2)\n",
            "y_train: [0 0 1 0 1 0 1 1 1 0]\n",
            "X_test: (10, 2)\n",
            "y_test: [1 0 1 0 0 1 1 1 0 0]\n"
          ]
        }
      ]
    },
    {
      "cell_type": "code",
      "source": [
        "def sigmoid(z):\n",
        "    return 1 / (1 + np.exp(-z))\n",
        "\n",
        "def sigmoid_derivative(z):\n",
        "    s = sigmoid(z)\n",
        "    return s * (1 - s)"
      ],
      "metadata": {
        "id": "oGE-BFz6Myoh"
      },
      "execution_count": 2,
      "outputs": []
    },
    {
      "cell_type": "code",
      "source": [
        "# Initialize parameters randomly\n",
        "w1=np.random.randn()\n",
        "w2=np.random.randn()\n",
        "w3=np.random.randn()\n",
        "b=np.random.randn()\n",
        "\n",
        "\n",
        "# Hyperparameters\n",
        "lr = 0.1\n",
        "epochs = 100000\n",
        "\n",
        "# Training loop\n",
        "for epoch in range(epochs):\n",
        "    for i in range(len(X_train)):\n",
        "        x1, x2 = X_train[i]\n",
        "        target = y_train[i][0]\n",
        "\n",
        "        # Forward pass\n",
        "        z1 = w1 * x1 + w2 * x2 + b\n",
        "        h = sigmoid(z1)\n",
        "        y_pred = w3 * h\n",
        "\n",
        "        # Compute error\n",
        "        error = target - y_pred\n",
        "\n",
        "        # Backward pass (manual gradients)\n",
        "        dL_dw3 = -2 * error * h\n",
        "\n",
        "        d = w3 * sigmoid_derivative(z1)\n",
        "        dL_dw1 = -2 * error * d * x1\n",
        "        dL_dw2 = -2 * error * d * x2\n",
        "        dL_db1 = -2 * error * d\n",
        "\n",
        "        # Update weights\n",
        "        w3 -= lr * dL_dw3\n",
        "        w1 -= lr * dL_dw1\n",
        "        w2 -= lr * dL_dw2\n",
        "        b -= lr * dL_db1\n",
        "\n",
        "# Evaluation on test set\n",
        "mse = 0\n",
        "for i in range(len(X_test)):\n",
        "    x1, x2 = X_test[i]\n",
        "    target = y_test[i][0]\n",
        "\n",
        "    z1 = w1 * x1 + w2 * x2 + b\n",
        "    h = sigmoid(z1)\n",
        "    y_pred = w3 * h\n",
        "    print(f\"original :{target} , y_pred :{y_pred}\")\n",
        "    mse += (target - y_pred) ** 2\n",
        "\n",
        "mse /= len(X_test)\n",
        "print(\"Mean Squared Error on test set:\", mse)\n"
      ],
      "metadata": {
        "colab": {
          "base_uri": "https://localhost:8080/"
        },
        "id": "9qRp6kid-Uj4",
        "outputId": "931303c4-2320-486d-f0db-a494776bc8eb"
      },
      "execution_count": 3,
      "outputs": [
        {
          "output_type": "stream",
          "name": "stdout",
          "text": [
            "original :1 , y_pred :1.0090968033570897\n",
            "original :0 , y_pred :1.1095189842020597e-38\n",
            "original :1 , y_pred :1.0090968028000118\n",
            "original :0 , y_pred :2.599280760911318e-27\n",
            "original :0 , y_pred :3.158331264865705e-27\n",
            "original :1 , y_pred :0.2680681744629958\n",
            "original :1 , y_pred :0.129844046768557\n",
            "original :1 , y_pred :1.0081379999838893\n",
            "original :0 , y_pred :8.839579055137779e-30\n",
            "original :0 , y_pred :1.0434327514628875e-36\n",
            "Mean Squared Error on test set: 0.12931273108742902\n"
          ]
        }
      ]
    }
  ]
}